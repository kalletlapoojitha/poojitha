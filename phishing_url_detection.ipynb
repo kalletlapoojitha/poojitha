{
  "metadata": {
    "kernelspec": {
      "language": "python",
      "display_name": "Python 3",
      "name": "python3"
    },
    "language_info": {
      "pygments_lexer": "ipython3",
      "nbconvert_exporter": "python",
      "version": "3.6.4",
      "file_extension": ".py",
      "codemirror_mode": {
        "name": "ipython",
        "version": 3
      },
      "name": "python",
      "mimetype": "text/x-python"
    },
    "colab": {
      "provenance": []
    }
  },
  "nbformat_minor": 0,
  "nbformat": 4,
  "cells": [
    {
      "cell_type": "code",
      "source": [
        "#import Libraries\n",
        "\n",
        "import numpy as np\n",
        "import pandas as pd\n",
        "import matplotlib.pyplot as plt\n",
        "%matplotlib inline\n",
        "import seaborn as sns\n",
        "import warnings\n",
        "from sklearn import metrics"
      ],
      "metadata": {
        "execution": {
          "iopub.status.busy": "2023-03-16T17:20:42.630512Z",
          "iopub.execute_input": "2023-03-16T17:20:42.631418Z",
          "iopub.status.idle": "2023-03-16T17:20:42.638341Z",
          "shell.execute_reply.started": "2023-03-16T17:20:42.631366Z",
          "shell.execute_reply": "2023-03-16T17:20:42.636919Z"
        },
        "trusted": true,
        "id": "FC1gMN0PJyua"
      },
      "execution_count": null,
      "outputs": []
    },
    {
      "cell_type": "code",
      "source": [
        "warnings.filterwarnings('ignore')"
      ],
      "metadata": {
        "execution": {
          "iopub.status.busy": "2023-03-16T17:20:42.644066Z",
          "iopub.execute_input": "2023-03-16T17:20:42.644462Z",
          "iopub.status.idle": "2023-03-16T17:20:42.656990Z",
          "shell.execute_reply.started": "2023-03-16T17:20:42.644427Z",
          "shell.execute_reply": "2023-03-16T17:20:42.655909Z"
        },
        "trusted": true,
        "id": "j7z5aPBUJyub"
      },
      "execution_count": null,
      "outputs": []
    },
    {
      "cell_type": "code",
      "source": [
        "#load dataset\n",
        "\n",
        "data = pd.read_csv(\"/phishing.csv\")\n",
        "data.head()\n"
      ],
      "metadata": {
        "execution": {
          "iopub.status.busy": "2023-03-16T17:20:42.658783Z",
          "iopub.execute_input": "2023-03-16T17:20:42.659431Z",
          "iopub.status.idle": "2023-03-16T17:20:42.714644Z",
          "shell.execute_reply.started": "2023-03-16T17:20:42.659395Z",
          "shell.execute_reply": "2023-03-16T17:20:42.713213Z"
        },
        "trusted": true,
        "id": "RCu3HsnBJyuc"
      },
      "execution_count": null,
      "outputs": []
    },
    {
      "cell_type": "code",
      "source": [
        "data.shape"
      ],
      "metadata": {
        "execution": {
          "iopub.status.busy": "2023-03-16T17:20:43.019391Z",
          "iopub.execute_input": "2023-03-16T17:20:43.020136Z",
          "iopub.status.idle": "2023-03-16T17:20:43.025773Z",
          "shell.execute_reply.started": "2023-03-16T17:20:43.020075Z",
          "shell.execute_reply": "2023-03-16T17:20:43.024969Z"
        },
        "trusted": true,
        "id": "vqQyo1zzJyuc"
      },
      "execution_count": null,
      "outputs": []
    },
    {
      "cell_type": "code",
      "source": [
        "data.columns"
      ],
      "metadata": {
        "execution": {
          "iopub.status.busy": "2023-03-16T17:20:43.078169Z",
          "iopub.execute_input": "2023-03-16T17:20:43.078878Z",
          "iopub.status.idle": "2023-03-16T17:20:43.085979Z",
          "shell.execute_reply.started": "2023-03-16T17:20:43.078836Z",
          "shell.execute_reply": "2023-03-16T17:20:43.084945Z"
        },
        "trusted": true,
        "id": "5AHS2TacJyuc"
      },
      "execution_count": null,
      "outputs": []
    },
    {
      "cell_type": "code",
      "source": [
        "data.info()"
      ],
      "metadata": {
        "execution": {
          "iopub.status.busy": "2023-03-16T17:20:43.087683Z",
          "iopub.execute_input": "2023-03-16T17:20:43.088605Z",
          "iopub.status.idle": "2023-03-16T17:20:43.109533Z",
          "shell.execute_reply.started": "2023-03-16T17:20:43.088559Z",
          "shell.execute_reply": "2023-03-16T17:20:43.108597Z"
        },
        "trusted": true,
        "id": "nVSAfE3eJyuc"
      },
      "execution_count": null,
      "outputs": []
    },
    {
      "cell_type": "code",
      "source": [
        "data.nunique()"
      ],
      "metadata": {
        "execution": {
          "iopub.status.busy": "2023-03-16T17:20:43.110635Z",
          "iopub.execute_input": "2023-03-16T17:20:43.111466Z",
          "iopub.status.idle": "2023-03-16T17:20:43.127997Z",
          "shell.execute_reply.started": "2023-03-16T17:20:43.111429Z",
          "shell.execute_reply": "2023-03-16T17:20:43.126851Z"
        },
        "trusted": true,
        "id": "aQ6HIWHWJyuc"
      },
      "execution_count": null,
      "outputs": []
    },
    {
      "cell_type": "code",
      "source": [
        "data = data.drop(['Index'],axis = 1)"
      ],
      "metadata": {
        "execution": {
          "iopub.status.busy": "2023-03-16T17:20:43.129540Z",
          "iopub.execute_input": "2023-03-16T17:20:43.129965Z",
          "iopub.status.idle": "2023-03-16T17:20:43.136219Z",
          "shell.execute_reply.started": "2023-03-16T17:20:43.129932Z",
          "shell.execute_reply": "2023-03-16T17:20:43.135345Z"
        },
        "trusted": true,
        "id": "WBMQMsioJyuc"
      },
      "execution_count": null,
      "outputs": []
    },
    {
      "cell_type": "code",
      "source": [
        "data.describe().T"
      ],
      "metadata": {
        "execution": {
          "iopub.status.busy": "2023-03-16T17:20:43.138342Z",
          "iopub.execute_input": "2023-03-16T17:20:43.138928Z",
          "iopub.status.idle": "2023-03-16T17:20:43.243478Z",
          "shell.execute_reply.started": "2023-03-16T17:20:43.138894Z",
          "shell.execute_reply": "2023-03-16T17:20:43.242200Z"
        },
        "trusted": true,
        "id": "lggz92tpJyuc"
      },
      "execution_count": null,
      "outputs": []
    },
    {
      "cell_type": "markdown",
      "source": [
        "Visualizing the Data\n"
      ],
      "metadata": {
        "id": "LrYMSxYzJyud"
      }
    },
    {
      "cell_type": "code",
      "source": [
        "plt.figure(figsize=(15,15))\n",
        "sns.heatmap(data.corr(),annot=True)\n",
        "plt.show()"
      ],
      "metadata": {
        "execution": {
          "iopub.status.busy": "2023-03-16T17:20:43.245349Z",
          "iopub.execute_input": "2023-03-16T17:20:43.246139Z",
          "iopub.status.idle": "2023-03-16T17:20:47.742808Z",
          "shell.execute_reply.started": "2023-03-16T17:20:43.246063Z",
          "shell.execute_reply": "2023-03-16T17:20:47.741457Z"
        },
        "trusted": true,
        "id": "qrordag_Jyud"
      },
      "execution_count": null,
      "outputs": []
    },
    {
      "cell_type": "code",
      "source": [
        "# Phishing Count in pie chart\n",
        "\n",
        "data['class'].value_counts().plot(kind='pie',autopct='%1.2f%%')\n",
        "plt.title(\"Phishing Count\")\n",
        "plt.show()\n"
      ],
      "metadata": {
        "execution": {
          "iopub.status.busy": "2023-03-16T17:20:47.745219Z",
          "iopub.execute_input": "2023-03-16T17:20:47.745691Z",
          "iopub.status.idle": "2023-03-16T17:20:47.884107Z",
          "shell.execute_reply.started": "2023-03-16T17:20:47.745651Z",
          "shell.execute_reply": "2023-03-16T17:20:47.882093Z"
        },
        "trusted": true,
        "id": "smdpsFXXJyue"
      },
      "execution_count": null,
      "outputs": []
    },
    {
      "cell_type": "markdown",
      "source": [
        "# Splitting the Data\n",
        "\n",
        "The data is split into train & test sets, 80-20 split.\n"
      ],
      "metadata": {
        "id": "ZjWEXVFBJyue"
      }
    },
    {
      "cell_type": "code",
      "source": [
        "\n",
        "\n",
        "X = data.drop([\"class\"],axis =1)\n",
        "y = data[\"class\"]\n",
        "\n"
      ],
      "metadata": {
        "execution": {
          "iopub.status.busy": "2023-03-16T17:20:47.887238Z",
          "iopub.execute_input": "2023-03-16T17:20:47.888431Z",
          "iopub.status.idle": "2023-03-16T17:20:47.896995Z",
          "shell.execute_reply.started": "2023-03-16T17:20:47.888378Z",
          "shell.execute_reply": "2023-03-16T17:20:47.894983Z"
        },
        "trusted": true,
        "id": "yZfz1cgZJyue"
      },
      "execution_count": null,
      "outputs": []
    },
    {
      "cell_type": "code",
      "source": [
        "from sklearn.model_selection import train_test_split\n",
        "\n",
        "X_train, X_test , y_train, y_test = train_test_split(X, y, test_size = 0.2 ,random_state = 42)\n"
      ],
      "metadata": {
        "execution": {
          "iopub.status.busy": "2023-03-16T17:20:47.899265Z",
          "iopub.execute_input": "2023-03-16T17:20:47.899830Z",
          "iopub.status.idle": "2023-03-16T17:20:47.915247Z",
          "shell.execute_reply.started": "2023-03-16T17:20:47.899777Z",
          "shell.execute_reply": "2023-03-16T17:20:47.913327Z"
        },
        "trusted": true,
        "id": "8PeLiocaJyue"
      },
      "execution_count": null,
      "outputs": []
    },
    {
      "cell_type": "code",
      "source": [
        "X_train.shape, y_train.shape, X_test.shape, y_test.shape"
      ],
      "metadata": {
        "execution": {
          "iopub.status.busy": "2023-03-16T17:20:47.917754Z",
          "iopub.execute_input": "2023-03-16T17:20:47.918398Z",
          "iopub.status.idle": "2023-03-16T17:20:47.930866Z",
          "shell.execute_reply.started": "2023-03-16T17:20:47.918337Z",
          "shell.execute_reply": "2023-03-16T17:20:47.929665Z"
        },
        "trusted": true,
        "id": "ZqEIPeJ_Jyue"
      },
      "execution_count": null,
      "outputs": []
    },
    {
      "cell_type": "code",
      "source": [
        "#to store model  performance\n",
        "\n",
        "ml_model = []\n",
        "accuracy = []\n",
        "f1_score = []\n",
        "recall = []\n",
        "precision = []\n",
        "\n"
      ],
      "metadata": {
        "execution": {
          "iopub.status.busy": "2023-03-16T17:20:47.937680Z",
          "iopub.execute_input": "2023-03-16T17:20:47.938059Z",
          "iopub.status.idle": "2023-03-16T17:20:47.945685Z",
          "shell.execute_reply.started": "2023-03-16T17:20:47.938019Z",
          "shell.execute_reply": "2023-03-16T17:20:47.943547Z"
        },
        "trusted": true,
        "id": "wEY4igb2Jyue"
      },
      "execution_count": null,
      "outputs": []
    },
    {
      "cell_type": "code",
      "source": [
        "#function to call for storing the results\n",
        "\n",
        "def storeResults(model,a,b,c,d):\n",
        "    ml_model.append(model)\n",
        "    accuracy.append(round(a, 3))\n",
        "    f1_score.append(round(b, 3))\n",
        "    recall.append(round(c, 3))\n",
        "    precision.append(round(d ,3))"
      ],
      "metadata": {
        "execution": {
          "iopub.status.busy": "2023-03-16T17:20:47.947215Z",
          "iopub.execute_input": "2023-03-16T17:20:47.947624Z",
          "iopub.status.idle": "2023-03-16T17:20:47.956716Z",
          "shell.execute_reply.started": "2023-03-16T17:20:47.947587Z",
          "shell.execute_reply": "2023-03-16T17:20:47.955707Z"
        },
        "trusted": true,
        "id": "ZCqru-C5Jyuf"
      },
      "execution_count": null,
      "outputs": []
    },
    {
      "cell_type": "markdown",
      "source": [
        "# Logistic Regression"
      ],
      "metadata": {
        "id": "j5aUDIr9Jyuf"
      }
    },
    {
      "cell_type": "code",
      "source": [
        "# Linear regression model\n",
        "from sklearn.linear_model import LogisticRegression\n",
        "\n",
        "\n",
        "# instantiate the model\n",
        "log = LogisticRegression()\n",
        "\n"
      ],
      "metadata": {
        "execution": {
          "iopub.status.busy": "2023-03-16T17:20:47.958206Z",
          "iopub.execute_input": "2023-03-16T17:20:47.958800Z",
          "iopub.status.idle": "2023-03-16T17:20:47.969014Z",
          "shell.execute_reply.started": "2023-03-16T17:20:47.958765Z",
          "shell.execute_reply": "2023-03-16T17:20:47.967706Z"
        },
        "trusted": true,
        "id": "uL7s-JV9Jyuf"
      },
      "execution_count": null,
      "outputs": []
    },
    {
      "cell_type": "code",
      "source": [
        "# fit the model\n",
        "log.fit(X_train,y_train)\n"
      ],
      "metadata": {
        "execution": {
          "iopub.status.busy": "2023-03-16T17:20:47.971184Z",
          "iopub.execute_input": "2023-03-16T17:20:47.971852Z",
          "iopub.status.idle": "2023-03-16T17:20:48.102720Z",
          "shell.execute_reply.started": "2023-03-16T17:20:47.971814Z",
          "shell.execute_reply": "2023-03-16T17:20:48.100836Z"
        },
        "trusted": true,
        "id": "ILkmgp_UJyuf"
      },
      "execution_count": null,
      "outputs": []
    },
    {
      "cell_type": "code",
      "source": [
        "\n",
        "#predicting the target value from the model for the samples\n",
        "\n",
        "y_train_log = log.predict(X_train)\n",
        "y_test_log = log.predict(X_test)\n",
        "\n"
      ],
      "metadata": {
        "execution": {
          "iopub.status.busy": "2023-03-16T17:20:48.105563Z",
          "iopub.execute_input": "2023-03-16T17:20:48.106712Z",
          "iopub.status.idle": "2023-03-16T17:20:48.126737Z",
          "shell.execute_reply.started": "2023-03-16T17:20:48.106639Z",
          "shell.execute_reply": "2023-03-16T17:20:48.124564Z"
        },
        "trusted": true,
        "id": "nW8bX1r2Jyuf"
      },
      "execution_count": null,
      "outputs": []
    },
    {
      "cell_type": "code",
      "source": [
        "#computing accuracy , score , recall , precision of the model\n",
        "\n",
        "acc_train_log = metrics.accuracy_score(y_train,y_train_log)\n",
        "acc_test_log = metrics.accuracy_score(y_test,y_test_log)\n",
        "\n",
        "print(\"Logistic Regression : Accuracy on training Data: {:.3f}\".format(acc_train_log))\n",
        "print(\"Logistic Regression : Accuracy on test Data: {:.3f}\".format(acc_test_log))\n",
        "print()\n",
        "\n",
        "\n",
        "f1_score_train_log = metrics.f1_score(y_train,y_train_log)\n",
        "f1_score_test_log = metrics.f1_score(y_test,y_test_log)\n",
        "print(\"Logistic Regression : f1_score on training Data: {:.3f}\".format(f1_score_train_log))\n",
        "print(\"Logistic Regression : f1_score on test Data: {:.3f}\".format(f1_score_test_log))\n",
        "print()\n",
        "\n",
        "recall_score_train_log = metrics.recall_score(y_train,y_train_log)\n",
        "recall_score_test_log = metrics.recall_score(y_test,y_test_log)\n",
        "print(\"Logistic Regression : Recall on training Data: {:.3f}\".format(recall_score_train_log))\n",
        "print(\"Logistic Regression : Recall on test Data: {:.3f}\".format(recall_score_test_log))\n",
        "print()\n",
        "\n",
        "precision_score_train_log = metrics.precision_score(y_train,y_train_log)\n",
        "precision_score_test_log = metrics.precision_score(y_test,y_test_log)\n",
        "print(\"Logistic Regression : precision on training Data: {:.3f}\".format(precision_score_train_log))\n",
        "print(\"Logistic Regression : precision on test Data: {:.3f}\".format(precision_score_test_log))\n"
      ],
      "metadata": {
        "execution": {
          "iopub.status.busy": "2023-03-16T17:20:48.129959Z",
          "iopub.execute_input": "2023-03-16T17:20:48.131286Z",
          "iopub.status.idle": "2023-03-16T17:20:48.193240Z",
          "shell.execute_reply.started": "2023-03-16T17:20:48.131172Z",
          "shell.execute_reply": "2023-03-16T17:20:48.191603Z"
        },
        "trusted": true,
        "id": "7FhTuOojJyuf"
      },
      "execution_count": null,
      "outputs": []
    },
    {
      "cell_type": "code",
      "source": [
        "#computing the classification report of the model\n",
        "\n",
        "print(metrics.classification_report(y_test, y_test_log))\n",
        "\n",
        "\n",
        ""
      ],
      "metadata": {
        "execution": {
          "iopub.status.busy": "2023-03-16T17:20:48.195630Z",
          "iopub.execute_input": "2023-03-16T17:20:48.196635Z",
          "iopub.status.idle": "2023-03-16T17:20:48.227685Z",
          "shell.execute_reply.started": "2023-03-16T17:20:48.196569Z",
          "shell.execute_reply": "2023-03-16T17:20:48.226037Z"
        },
        "trusted": true,
        "id": "1WMof-UcJyug"
      },
      "execution_count": null,
      "outputs": []
    },
    {
      "cell_type": "code",
      "source": [
        "#Store the results.\n",
        "storeResults('Logistic Regression',acc_test_log,f1_score_test_log,\n",
        "             recall_score_train_log,precision_score_train_log)\n",
        "\n",
        "\n",
        ""
      ],
      "metadata": {
        "execution": {
          "iopub.status.busy": "2023-03-16T17:20:48.230152Z",
          "iopub.execute_input": "2023-03-16T17:20:48.231188Z",
          "iopub.status.idle": "2023-03-16T17:20:48.239541Z",
          "shell.execute_reply.started": "2023-03-16T17:20:48.231107Z",
          "shell.execute_reply": "2023-03-16T17:20:48.237888Z"
        },
        "trusted": true,
        "id": "W1zFGlkQJyug"
      },
      "execution_count": null,
      "outputs": []
    },
    {
      "cell_type": "markdown",
      "source": [
        "# K-Nearest Neighbors : Classifier"
      ],
      "metadata": {
        "id": "MgPnRsaKJyug"
      }
    },
    {
      "cell_type": "code",
      "source": [
        "# K-Nearest Neighbors Classifier model\n",
        "from sklearn.neighbors import KNeighborsClassifier\n",
        "\n",
        "# instantiate the model\n",
        "knn = KNeighborsClassifier(n_neighbors=1)\n",
        "\n",
        "# fit the model\n",
        "knn.fit(X_train,y_train)\n"
      ],
      "metadata": {
        "execution": {
          "iopub.status.busy": "2023-03-16T17:20:48.241950Z",
          "iopub.execute_input": "2023-03-16T17:20:48.242956Z",
          "iopub.status.idle": "2023-03-16T17:20:48.261909Z",
          "shell.execute_reply.started": "2023-03-16T17:20:48.242872Z",
          "shell.execute_reply": "2023-03-16T17:20:48.260475Z"
        },
        "trusted": true,
        "id": "_NrQa97YJyug"
      },
      "execution_count": null,
      "outputs": []
    },
    {
      "cell_type": "code",
      "source": [
        "\n",
        "#predicting the target value from the model for the samples\n",
        "y_train_knn = knn.predict(X_train)\n",
        "y_test_knn = knn.predict(X_test)\n",
        "\n"
      ],
      "metadata": {
        "execution": {
          "iopub.status.busy": "2023-03-16T17:20:48.263546Z",
          "iopub.execute_input": "2023-03-16T17:20:48.264096Z",
          "iopub.status.idle": "2023-03-16T17:20:49.898738Z",
          "shell.execute_reply.started": "2023-03-16T17:20:48.264062Z",
          "shell.execute_reply": "2023-03-16T17:20:49.896044Z"
        },
        "trusted": true,
        "id": "yavkxWVtJyuh"
      },
      "execution_count": null,
      "outputs": []
    },
    {
      "cell_type": "code",
      "source": [
        "\n",
        "acc_train_knn = metrics.accuracy_score(y_train,y_train_knn)\n",
        "acc_test_knn = metrics.accuracy_score(y_test,y_test_knn)\n",
        "print(\"K-Nearest Neighbors : Accuracy on training Data: {:.3f}\".format(acc_train_knn))\n",
        "print(\"K-Nearest Neighbors : Accuracy on test Data: {:.3f}\".format(acc_test_knn))\n",
        "print()\n",
        "\n",
        "f1_score_train_knn = metrics.f1_score(y_train,y_train_knn)\n",
        "f1_score_test_knn = metrics.f1_score(y_test,y_test_knn)\n",
        "print(\"K-Nearest Neighbors : f1_score on training Data: {:.3f}\".format(f1_score_train_knn))\n",
        "print(\"K-Nearest Neighbors : f1_score on test Data: {:.3f}\".format(f1_score_test_knn))\n",
        "print()\n",
        "\n",
        "recall_score_train_knn = metrics.recall_score(y_train,y_train_knn)\n",
        "recall_score_test_knn = metrics.recall_score(y_test,y_test_knn)\n",
        "print(\"K-Nearest Neighborsn : Recall on training Data: {:.3f}\".format(recall_score_train_knn))\n",
        "print(\"Logistic Regression : Recall on test Data: {:.3f}\".format(recall_score_test_knn))\n",
        "print()\n",
        "\n",
        "precision_score_train_knn = metrics.precision_score(y_train,y_train_knn)\n",
        "precision_score_test_knn = metrics.precision_score(y_test,y_test_knn)\n",
        "print(\"K-Nearest Neighbors : precision on training Data: {:.3f}\".format(precision_score_train_knn))\n",
        "print(\"K-Nearest Neighbors : precision on test Data: {:.3f}\".format(precision_score_test_knn))\n",
        "\n"
      ],
      "metadata": {
        "execution": {
          "iopub.status.busy": "2023-03-16T17:20:49.901534Z",
          "iopub.execute_input": "2023-03-16T17:20:49.902782Z",
          "iopub.status.idle": "2023-03-16T17:20:49.952851Z",
          "shell.execute_reply.started": "2023-03-16T17:20:49.902679Z",
          "shell.execute_reply": "2023-03-16T17:20:49.950075Z"
        },
        "trusted": true,
        "id": "mFq7I83TJyuh"
      },
      "execution_count": null,
      "outputs": []
    },
    {
      "cell_type": "code",
      "source": [
        "#computing the classification report of the model\n",
        "\n",
        "print(metrics.classification_report(y_test, y_test_knn))\n"
      ],
      "metadata": {
        "execution": {
          "iopub.status.busy": "2023-03-16T17:20:49.956763Z",
          "iopub.execute_input": "2023-03-16T17:20:49.957505Z",
          "iopub.status.idle": "2023-03-16T17:20:49.979219Z",
          "shell.execute_reply.started": "2023-03-16T17:20:49.957448Z",
          "shell.execute_reply": "2023-03-16T17:20:49.976749Z"
        },
        "trusted": true,
        "id": "koLp5qgnJyuh"
      },
      "execution_count": null,
      "outputs": []
    },
    {
      "cell_type": "code",
      "source": [
        "\n",
        "\n",
        "training_accuracy = []\n",
        "test_accuracy = []\n",
        "depth = range(1,20)\n",
        "for n in depth:\n",
        "    knn = KNeighborsClassifier(n_neighbors=n)\n",
        "\n",
        "    knn.fit(X_train, y_train)\n",
        "    # record training set accuracy\n",
        "    training_accuracy.append(knn.score(X_train, y_train))\n",
        "    # record generalization accuracy\n",
        "    test_accuracy.append(knn.score(X_test, y_test))\n",
        "\n",
        "\n",
        "\n",
        "\n",
        "#plotting the training & testing accuracy for n_estimators from 1 to 20\n",
        "plt.plot(depth, training_accuracy, label=\"training accuracy\")\n",
        "plt.plot(depth, test_accuracy, label=\"test accuracy\")\n",
        "plt.ylabel(\"Accuracy\")\n",
        "plt.xlabel(\"n_neighbors\")\n",
        "plt.legend();\n",
        "\n"
      ],
      "metadata": {
        "execution": {
          "iopub.status.busy": "2023-03-16T17:20:49.989334Z",
          "iopub.execute_input": "2023-03-16T17:20:49.989902Z",
          "iopub.status.idle": "2023-03-16T17:21:32.464819Z",
          "shell.execute_reply.started": "2023-03-16T17:20:49.989860Z",
          "shell.execute_reply": "2023-03-16T17:21:32.463479Z"
        },
        "trusted": true,
        "id": "31VKfU92Jyui"
      },
      "execution_count": null,
      "outputs": []
    },
    {
      "cell_type": "code",
      "source": [
        "#store results\n",
        "\n",
        "storeResults('K-Nearest Neighbors',acc_test_knn,f1_score_test_knn,\n",
        "             recall_score_train_knn,precision_score_train_knn)\n"
      ],
      "metadata": {
        "execution": {
          "iopub.status.busy": "2023-03-16T17:21:32.466512Z",
          "iopub.execute_input": "2023-03-16T17:21:32.466999Z",
          "iopub.status.idle": "2023-03-16T17:21:32.473672Z",
          "shell.execute_reply.started": "2023-03-16T17:21:32.466953Z",
          "shell.execute_reply": "2023-03-16T17:21:32.472019Z"
        },
        "trusted": true,
        "id": "1N37NiGNJyui"
      },
      "execution_count": null,
      "outputs": []
    },
    {
      "cell_type": "markdown",
      "source": [
        "#  Support Vector Machine : Classifier"
      ],
      "metadata": {
        "id": "yD10kwFsJyui"
      }
    },
    {
      "cell_type": "code",
      "source": [
        "# Support Vector Classifier model\n",
        "from sklearn.svm import SVC\n",
        "from sklearn.model_selection import GridSearchCV\n",
        "\n",
        "# defining parameter range\n",
        "param_grid = {'gamma': [0.1],'kernel': ['rbf','linear']}\n",
        "\n",
        "svc = GridSearchCV(SVC(), param_grid)\n",
        "\n",
        "# fitting the model for grid search\n",
        "svc.fit(X_train, y_train)\n"
      ],
      "metadata": {
        "execution": {
          "iopub.status.busy": "2023-03-16T17:21:32.475269Z",
          "iopub.execute_input": "2023-03-16T17:21:32.475683Z",
          "iopub.status.idle": "2023-03-16T17:21:48.203524Z",
          "shell.execute_reply.started": "2023-03-16T17:21:32.475629Z",
          "shell.execute_reply": "2023-03-16T17:21:48.202205Z"
        },
        "trusted": true,
        "id": "6yoQJltWJyui"
      },
      "execution_count": null,
      "outputs": []
    },
    {
      "cell_type": "code",
      "source": [
        "#predicting the target value from the model for the samples\n",
        "y_train_svc = svc.predict(X_train)\n",
        "y_test_svc = svc.predict(X_test)\n",
        "\n",
        "\n",
        ""
      ],
      "metadata": {
        "execution": {
          "iopub.status.busy": "2023-03-16T17:21:48.205539Z",
          "iopub.execute_input": "2023-03-16T17:21:48.206058Z",
          "iopub.status.idle": "2023-03-16T17:21:50.385296Z",
          "shell.execute_reply.started": "2023-03-16T17:21:48.205998Z",
          "shell.execute_reply": "2023-03-16T17:21:50.383530Z"
        },
        "trusted": true,
        "id": "vG4OegbqJyui"
      },
      "execution_count": null,
      "outputs": []
    },
    {
      "cell_type": "code",
      "source": [
        "acc_train_svc = metrics.accuracy_score(y_train,y_train_svc)\n",
        "acc_test_svc = metrics.accuracy_score(y_test,y_test_svc)\n",
        "print(\"Support Vector Machine : Accuracy on training Data: {:.3f}\".format(acc_train_svc))\n",
        "print(\"Support Vector Machine : Accuracy on test Data: {:.3f}\".format(acc_test_svc))\n",
        "print()\n",
        "\n",
        "f1_score_train_svc = metrics.f1_score(y_train,y_train_svc)\n",
        "f1_score_test_svc = metrics.f1_score(y_test,y_test_svc)\n",
        "print(\"Support Vector Machine : f1_score on training Data: {:.3f}\".format(f1_score_train_svc))\n",
        "print(\"Support Vector Machine : f1_score on test Data: {:.3f}\".format(f1_score_test_svc))\n",
        "print()\n",
        "\n",
        "recall_score_train_svc = metrics.recall_score(y_train,y_train_svc)\n",
        "recall_score_test_svc = metrics.recall_score(y_test,y_test_svc)\n",
        "print(\"Support Vector Machine : Recall on training Data: {:.3f}\".format(recall_score_train_svc))\n",
        "print(\"Support Vector Machine : Recall on test Data: {:.3f}\".format(recall_score_test_svc))\n",
        "print()\n",
        "\n",
        "precision_score_train_svc = metrics.precision_score(y_train,y_train_svc)\n",
        "precision_score_test_svc = metrics.precision_score(y_test,y_test_svc)\n",
        "print(\"Support Vector Machine : precision on training Data: {:.3f}\".format(precision_score_train_svc))\n",
        "print(\"Support Vector Machine : precision on test Data: {:.3f}\".format(precision_score_test_svc))\n"
      ],
      "metadata": {
        "execution": {
          "iopub.status.busy": "2023-03-16T17:21:50.387820Z",
          "iopub.execute_input": "2023-03-16T17:21:50.388365Z",
          "iopub.status.idle": "2023-03-16T17:21:50.429596Z",
          "shell.execute_reply.started": "2023-03-16T17:21:50.388315Z",
          "shell.execute_reply": "2023-03-16T17:21:50.428200Z"
        },
        "trusted": true,
        "id": "MYrpxFKoJyuj"
      },
      "execution_count": null,
      "outputs": []
    },
    {
      "cell_type": "code",
      "source": [
        "\n",
        "#computing the classification report of the model\n",
        "\n",
        "print(metrics.classification_report(y_test, y_test_svc))\n",
        "\n",
        "\n",
        ""
      ],
      "metadata": {
        "execution": {
          "iopub.status.busy": "2023-03-16T17:21:50.431317Z",
          "iopub.execute_input": "2023-03-16T17:21:50.431806Z",
          "iopub.status.idle": "2023-03-16T17:21:50.453394Z",
          "shell.execute_reply.started": "2023-03-16T17:21:50.431758Z",
          "shell.execute_reply": "2023-03-16T17:21:50.450965Z"
        },
        "trusted": true,
        "id": "fpG0uqUOJyuj"
      },
      "execution_count": null,
      "outputs": []
    },
    {
      "cell_type": "code",
      "source": [
        "#store Results\n",
        "\n",
        "\n",
        "storeResults('Support Vector Machine',acc_test_svc,f1_score_test_svc,\n",
        "             recall_score_train_svc,precision_score_train_svc)\n"
      ],
      "metadata": {
        "execution": {
          "iopub.status.busy": "2023-03-16T17:21:50.455026Z",
          "iopub.execute_input": "2023-03-16T17:21:50.456416Z",
          "iopub.status.idle": "2023-03-16T17:21:50.465024Z",
          "shell.execute_reply.started": "2023-03-16T17:21:50.456345Z",
          "shell.execute_reply": "2023-03-16T17:21:50.463013Z"
        },
        "trusted": true,
        "id": "Az8eOqbUJyuj"
      },
      "execution_count": null,
      "outputs": []
    },
    {
      "cell_type": "markdown",
      "source": [
        "# Naive Bayes : Classifier"
      ],
      "metadata": {
        "id": "zaF15ZQGJyuj"
      }
    },
    {
      "cell_type": "code",
      "source": [
        "\n",
        "# Naive Bayes Classifier Model\n",
        "from sklearn.naive_bayes import GaussianNB\n",
        "#from sklearn.pipeline import Pipeline\n",
        "\n",
        "# instantiate the model\n",
        "nb=  GaussianNB()\n",
        "\n",
        "# fit the model\n",
        "nb.fit(X_train,y_train)\n"
      ],
      "metadata": {
        "execution": {
          "iopub.status.busy": "2023-03-16T17:21:50.467040Z",
          "iopub.execute_input": "2023-03-16T17:21:50.467586Z",
          "iopub.status.idle": "2023-03-16T17:21:50.499152Z",
          "shell.execute_reply.started": "2023-03-16T17:21:50.467521Z",
          "shell.execute_reply": "2023-03-16T17:21:50.496762Z"
        },
        "trusted": true,
        "id": "A5O9Et6EJyuk"
      },
      "execution_count": null,
      "outputs": []
    },
    {
      "cell_type": "code",
      "source": [
        "\n",
        "#predicting the target value from the model for the samples\n",
        "y_train_nb = nb.predict(X_train)\n",
        "y_test_nb = nb.predict(X_test)\n"
      ],
      "metadata": {
        "execution": {
          "iopub.status.busy": "2023-03-16T17:21:50.501954Z",
          "iopub.execute_input": "2023-03-16T17:21:50.502676Z",
          "iopub.status.idle": "2023-03-16T17:21:50.521326Z",
          "shell.execute_reply.started": "2023-03-16T17:21:50.502624Z",
          "shell.execute_reply": "2023-03-16T17:21:50.519849Z"
        },
        "trusted": true,
        "id": "sUiY2BAXJyuk"
      },
      "execution_count": null,
      "outputs": []
    },
    {
      "cell_type": "code",
      "source": [
        "acc_train_nb = metrics.accuracy_score(y_train,y_train_nb)\n",
        "acc_test_nb = metrics.accuracy_score(y_test,y_test_nb)\n",
        "print(\"Naive Bayes Classifier : Accuracy on training Data: {:.3f}\".format(acc_train_nb))\n",
        "print(\"Naive Bayes Classifier : Accuracy on test Data: {:.3f}\".format(acc_test_nb))\n",
        "print()\n",
        "\n",
        "f1_score_train_nb = metrics.f1_score(y_train,y_train_nb)\n",
        "f1_score_test_nb = metrics.f1_score(y_test,y_test_nb)\n",
        "print(\"Naive Bayes Classifier : f1_score on training Data: {:.3f}\".format(f1_score_train_nb))\n",
        "print(\"Naive Bayes Classifier : f1_score on test Data: {:.3f}\".format(f1_score_test_nb))\n",
        "print()\n",
        "\n",
        "recall_score_train_nb = metrics.recall_score(y_train,y_train_nb)\n",
        "recall_score_test_nb = metrics.recall_score(y_test,y_test_nb)\n",
        "print(\"Naive Bayes Classifier : Recall on training Data: {:.3f}\".format(recall_score_train_nb))\n",
        "print(\"Naive Bayes Classifier : Recall on test Data: {:.3f}\".format(recall_score_test_nb))\n",
        "print()\n",
        "\n",
        "precision_score_train_nb = metrics.precision_score(y_train,y_train_nb)\n",
        "precision_score_test_nb = metrics.precision_score(y_test,y_test_nb)\n",
        "print(\"Naive Bayes Classifier : precision on training Data: {:.3f}\".format(precision_score_train_nb))\n",
        "print(\"Naive Bayes Classifier : precision on test Data: {:.3f}\".format(precision_score_test_nb))\n"
      ],
      "metadata": {
        "execution": {
          "iopub.status.busy": "2023-03-16T17:21:50.523442Z",
          "iopub.execute_input": "2023-03-16T17:21:50.524702Z",
          "iopub.status.idle": "2023-03-16T17:21:50.557168Z",
          "shell.execute_reply.started": "2023-03-16T17:21:50.524650Z",
          "shell.execute_reply": "2023-03-16T17:21:50.555421Z"
        },
        "trusted": true,
        "id": "lmQOtZ5pJyul"
      },
      "execution_count": null,
      "outputs": []
    },
    {
      "cell_type": "code",
      "source": [
        "#computing the classification report of the model\n",
        "\n",
        "print(metrics.classification_report(y_test, y_test_svc))\n",
        "\n"
      ],
      "metadata": {
        "execution": {
          "iopub.status.busy": "2023-03-16T17:21:50.559169Z",
          "iopub.execute_input": "2023-03-16T17:21:50.560299Z",
          "iopub.status.idle": "2023-03-16T17:21:50.576532Z",
          "shell.execute_reply.started": "2023-03-16T17:21:50.560253Z",
          "shell.execute_reply": "2023-03-16T17:21:50.574677Z"
        },
        "trusted": true,
        "id": "C7KqLoRTJyul"
      },
      "execution_count": null,
      "outputs": []
    },
    {
      "cell_type": "code",
      "source": [
        "#store Result\n",
        "storeResults('Naive Bayes Classifier',acc_test_nb,f1_score_test_nb,\n",
        "             recall_score_train_nb,precision_score_train_nb)\n",
        "\n",
        "\n",
        ""
      ],
      "metadata": {
        "execution": {
          "iopub.status.busy": "2023-03-16T17:21:50.578289Z",
          "iopub.execute_input": "2023-03-16T17:21:50.578638Z",
          "iopub.status.idle": "2023-03-16T17:21:50.585250Z",
          "shell.execute_reply.started": "2023-03-16T17:21:50.578605Z",
          "shell.execute_reply": "2023-03-16T17:21:50.583646Z"
        },
        "trusted": true,
        "id": "cXhcPoXaJyul"
      },
      "execution_count": null,
      "outputs": []
    },
    {
      "cell_type": "markdown",
      "source": [
        "# Decision Trees : Classifier"
      ],
      "metadata": {
        "id": "C4PRqgdBJyul"
      }
    },
    {
      "cell_type": "code",
      "source": [
        "# Decision Tree Classifier model\n",
        "from sklearn.tree import DecisionTreeClassifier\n",
        "\n",
        "# instantiate the model\n",
        "tree = DecisionTreeClassifier(max_depth=30)\n",
        "\n",
        "# fit the model\n",
        "tree.fit(X_train, y_train)\n"
      ],
      "metadata": {
        "execution": {
          "iopub.status.busy": "2023-03-16T17:21:50.587012Z",
          "iopub.execute_input": "2023-03-16T17:21:50.587913Z",
          "iopub.status.idle": "2023-03-16T17:21:50.628409Z",
          "shell.execute_reply.started": "2023-03-16T17:21:50.587860Z",
          "shell.execute_reply": "2023-03-16T17:21:50.626217Z"
        },
        "trusted": true,
        "id": "lgkBNuspJyul"
      },
      "execution_count": null,
      "outputs": []
    },
    {
      "cell_type": "code",
      "source": [
        "#predicting the target value from the model for the samples\n",
        "\n",
        "y_train_tree = tree.predict(X_train)\n",
        "y_test_tree = tree.predict(X_test)\n"
      ],
      "metadata": {
        "execution": {
          "iopub.status.busy": "2023-03-16T17:21:50.629629Z",
          "iopub.execute_input": "2023-03-16T17:21:50.629985Z",
          "iopub.status.idle": "2023-03-16T17:21:50.643466Z",
          "shell.execute_reply.started": "2023-03-16T17:21:50.629951Z",
          "shell.execute_reply": "2023-03-16T17:21:50.641779Z"
        },
        "trusted": true,
        "id": "eqlOc5nlJyum"
      },
      "execution_count": null,
      "outputs": []
    },
    {
      "cell_type": "code",
      "source": [
        "acc_train_tree = metrics.accuracy_score(y_train,y_train_tree)\n",
        "acc_test_tree = metrics.accuracy_score(y_test,y_test_tree)\n",
        "print(\"Decision Tree : Accuracy on training Data: {:.3f}\".format(acc_train_tree))\n",
        "print(\"Decision Tree : Accuracy on test Data: {:.3f}\".format(acc_test_tree))\n",
        "print()\n",
        "\n",
        "f1_score_train_tree = metrics.f1_score(y_train,y_train_tree)\n",
        "f1_score_test_tree = metrics.f1_score(y_test,y_test_tree)\n",
        "print(\"Decision Tree : f1_score on training Data: {:.3f}\".format(f1_score_train_tree))\n",
        "print(\"Decision Tree : f1_score on test Data: {:.3f}\".format(f1_score_test_tree))\n",
        "print()\n",
        "\n",
        "recall_score_train_tree = metrics.recall_score(y_train,y_train_tree)\n",
        "recall_score_test_tree = metrics.recall_score(y_test,y_test_tree)\n",
        "print(\"Decision Tree : Recall on training Data: {:.3f}\".format(recall_score_train_tree))\n",
        "print(\"Decision Tree : Recall on test Data: {:.3f}\".format(recall_score_test_tree))\n",
        "print()\n",
        "\n",
        "precision_score_train_tree = metrics.precision_score(y_train,y_train_tree)\n",
        "precision_score_test_tree = metrics.precision_score(y_test,y_test_tree)\n",
        "print(\"Decision Tree : precision on training Data: {:.3f}\".format(precision_score_train_tree))\n",
        "print(\"Decision Tree : precision on test Data: {:.3f}\".format(precision_score_test_tree))\n",
        "\n"
      ],
      "metadata": {
        "execution": {
          "iopub.status.busy": "2023-03-16T17:21:50.646038Z",
          "iopub.execute_input": "2023-03-16T17:21:50.648194Z",
          "iopub.status.idle": "2023-03-16T17:21:50.681362Z",
          "shell.execute_reply.started": "2023-03-16T17:21:50.648075Z",
          "shell.execute_reply": "2023-03-16T17:21:50.680005Z"
        },
        "trusted": true,
        "id": "9wMDZjWYJyum"
      },
      "execution_count": null,
      "outputs": []
    },
    {
      "cell_type": "code",
      "source": [
        "\n",
        "print(metrics.classification_report(y_test, y_test_tree))\n",
        "\n"
      ],
      "metadata": {
        "execution": {
          "iopub.status.busy": "2023-03-16T17:21:50.683405Z",
          "iopub.execute_input": "2023-03-16T17:21:50.683904Z",
          "iopub.status.idle": "2023-03-16T17:21:50.701609Z",
          "shell.execute_reply.started": "2023-03-16T17:21:50.683854Z",
          "shell.execute_reply": "2023-03-16T17:21:50.699231Z"
        },
        "trusted": true,
        "id": "ZzdkEfhTJyum"
      },
      "execution_count": null,
      "outputs": []
    },
    {
      "cell_type": "code",
      "source": [
        "training_accuracy = []\n",
        "test_accuracy = []\n",
        "\n",
        "depth = range(1,30)\n",
        "for n in depth:\n",
        "    tree_test = DecisionTreeClassifier(max_depth=n)\n",
        "\n",
        "    tree_test.fit(X_train, y_train)\n",
        "    # record training set accuracy\n",
        "    training_accuracy.append(tree_test.score(X_train, y_train))\n",
        "    # record generalization accuracy\n",
        "\n",
        "\n",
        "    test_accuracy.append(tree_test.score(X_test, y_test))"
      ],
      "metadata": {
        "execution": {
          "iopub.status.busy": "2023-03-16T17:21:50.705286Z",
          "iopub.execute_input": "2023-03-16T17:21:50.705731Z",
          "iopub.status.idle": "2023-03-16T17:21:51.542210Z",
          "shell.execute_reply.started": "2023-03-16T17:21:50.705694Z",
          "shell.execute_reply": "2023-03-16T17:21:51.540245Z"
        },
        "trusted": true,
        "id": "9rHq4A_PJyum"
      },
      "execution_count": null,
      "outputs": []
    },
    {
      "cell_type": "code",
      "source": [
        "#plotting the training & testing accuracy for max_depth from 1 to 30\n",
        "plt.plot(depth, training_accuracy, label=\"training accuracy\")\n",
        "plt.plot(depth, test_accuracy, label=\"test accuracy\")\n",
        "plt.ylabel(\"Accuracy\")\n",
        "plt.xlabel(\"max_depth\")\n",
        "plt.legend();\n"
      ],
      "metadata": {
        "execution": {
          "iopub.status.busy": "2023-03-16T17:21:51.544248Z",
          "iopub.execute_input": "2023-03-16T17:21:51.544696Z",
          "iopub.status.idle": "2023-03-16T17:21:51.772799Z",
          "shell.execute_reply.started": "2023-03-16T17:21:51.544660Z",
          "shell.execute_reply": "2023-03-16T17:21:51.770723Z"
        },
        "trusted": true,
        "id": "bE_GfPGDJyum"
      },
      "execution_count": null,
      "outputs": []
    },
    {
      "cell_type": "code",
      "source": [
        "storeResults('Decision Tree',acc_test_tree,f1_score_test_tree,\n",
        "             recall_score_train_tree,precision_score_train_tree)\n",
        "\n"
      ],
      "metadata": {
        "execution": {
          "iopub.status.busy": "2023-03-16T17:21:51.774834Z",
          "iopub.execute_input": "2023-03-16T17:21:51.775401Z",
          "iopub.status.idle": "2023-03-16T17:21:51.783466Z",
          "shell.execute_reply.started": "2023-03-16T17:21:51.775339Z",
          "shell.execute_reply": "2023-03-16T17:21:51.781030Z"
        },
        "trusted": true,
        "id": "d_yDHdjXJyum"
      },
      "execution_count": null,
      "outputs": []
    },
    {
      "cell_type": "markdown",
      "source": [
        "# Random Forest : Classifier"
      ],
      "metadata": {
        "id": "Mf14QsFMJyun"
      }
    },
    {
      "cell_type": "code",
      "source": [
        "from sklearn.ensemble import RandomForestClassifier\n",
        "\n",
        "# instantiate the model\n",
        "forest = RandomForestClassifier(n_estimators=10)\n",
        "\n",
        "# fit the model\n",
        "forest.fit(X_train,y_train)\n",
        "\n",
        "\n",
        ""
      ],
      "metadata": {
        "execution": {
          "iopub.status.busy": "2023-03-16T17:21:51.785891Z",
          "iopub.execute_input": "2023-03-16T17:21:51.786442Z",
          "iopub.status.idle": "2023-03-16T17:21:51.882745Z",
          "shell.execute_reply.started": "2023-03-16T17:21:51.786389Z",
          "shell.execute_reply": "2023-03-16T17:21:51.881531Z"
        },
        "trusted": true,
        "id": "rKo6N50AJyun"
      },
      "execution_count": null,
      "outputs": []
    },
    {
      "cell_type": "code",
      "source": [
        "y_train_forest = forest.predict(X_train)\n",
        "y_test_forest = forest.predict(X_test)\n",
        "\n",
        "\n"
      ],
      "metadata": {
        "execution": {
          "iopub.status.busy": "2023-03-16T17:21:51.884394Z",
          "iopub.execute_input": "2023-03-16T17:21:51.884749Z",
          "iopub.status.idle": "2023-03-16T17:21:51.918951Z",
          "shell.execute_reply.started": "2023-03-16T17:21:51.884716Z",
          "shell.execute_reply": "2023-03-16T17:21:51.917675Z"
        },
        "trusted": true,
        "id": "fN4F6AVBJyun"
      },
      "execution_count": null,
      "outputs": []
    },
    {
      "cell_type": "code",
      "source": [
        "\n",
        "acc_train_forest = metrics.accuracy_score(y_train,y_train_forest)\n",
        "acc_test_forest = metrics.accuracy_score(y_test,y_test_forest)\n",
        "print(\"Random Forest : Accuracy on training Data: {:.3f}\".format(acc_train_forest))\n",
        "print(\"Random Forest : Accuracy on test Data: {:.3f}\".format(acc_test_forest))\n",
        "print()\n",
        "\n",
        "f1_score_train_forest = metrics.f1_score(y_train,y_train_forest)\n",
        "f1_score_test_forest = metrics.f1_score(y_test,y_test_forest)\n",
        "print(\"Random Forest : f1_score on training Data: {:.3f}\".format(f1_score_train_forest))\n",
        "print(\"Random Forest : f1_score on test Data: {:.3f}\".format(f1_score_test_forest))\n",
        "print()\n",
        "\n",
        "recall_score_train_forest = metrics.recall_score(y_train,y_train_forest)\n",
        "recall_score_test_forest = metrics.recall_score(y_test,y_test_forest)\n",
        "print(\"Random Forest : Recall on training Data: {:.3f}\".format(recall_score_train_forest))\n",
        "print(\"Random Forest : Recall on test Data: {:.3f}\".format(recall_score_test_forest))\n",
        "print()\n",
        "\n",
        "precision_score_train_forest = metrics.precision_score(y_train,y_train_forest)\n",
        "precision_score_test_forest = metrics.precision_score(y_test,y_test_tree)\n",
        "print(\"Random Forest : precision on training Data: {:.3f}\".format(precision_score_train_forest))\n",
        "print(\"Random Forest : precision on test Data: {:.3f}\".format(precision_score_test_forest))\n"
      ],
      "metadata": {
        "execution": {
          "iopub.status.busy": "2023-03-16T17:21:51.921236Z",
          "iopub.execute_input": "2023-03-16T17:21:51.921700Z",
          "iopub.status.idle": "2023-03-16T17:21:51.958607Z",
          "shell.execute_reply.started": "2023-03-16T17:21:51.921662Z",
          "shell.execute_reply": "2023-03-16T17:21:51.956846Z"
        },
        "trusted": true,
        "id": "rQzXKu23Jyun"
      },
      "execution_count": null,
      "outputs": []
    },
    {
      "cell_type": "code",
      "source": [
        "\n",
        "print(metrics.classification_report(y_test, y_test_forest))\n"
      ],
      "metadata": {
        "execution": {
          "iopub.status.busy": "2023-03-16T17:21:51.959989Z",
          "iopub.execute_input": "2023-03-16T17:21:51.960444Z",
          "iopub.status.idle": "2023-03-16T17:21:51.979184Z",
          "shell.execute_reply.started": "2023-03-16T17:21:51.960403Z",
          "shell.execute_reply": "2023-03-16T17:21:51.977690Z"
        },
        "trusted": true,
        "id": "DI9MGUowJyuo"
      },
      "execution_count": null,
      "outputs": []
    },
    {
      "cell_type": "code",
      "source": [
        "training_accuracy = []\n",
        "test_accuracy = []\n",
        "depth = range(1,20)\n",
        "for n in depth:\n",
        "    forest_test =  RandomForestClassifier(n_estimators=n)\n",
        "\n",
        "    forest_test.fit(X_train, y_train)\n",
        "    # record training set accuracy\n",
        "    training_accuracy.append(forest_test.score(X_train, y_train))\n",
        "    # record generalization accuracy\n",
        "    test_accuracy.append(forest_test.score(X_test, y_test))\n",
        "\n",
        "\n",
        "#plotting the training & testing accuracy for n_estimators from 1 to 20\n",
        "plt.figure(figsize=None)\n",
        "plt.plot(depth, training_accuracy, label=\"training accuracy\")\n",
        "plt.plot(depth, test_accuracy, label=\"test accuracy\")\n",
        "plt.ylabel(\"Accuracy\")\n",
        "plt.xlabel(\"n_estimators\")\n",
        "plt.legend();\n"
      ],
      "metadata": {
        "execution": {
          "iopub.status.busy": "2023-03-16T17:21:51.980731Z",
          "iopub.execute_input": "2023-03-16T17:21:51.981090Z",
          "iopub.status.idle": "2023-03-16T17:21:54.198948Z",
          "shell.execute_reply.started": "2023-03-16T17:21:51.981056Z",
          "shell.execute_reply": "2023-03-16T17:21:54.197667Z"
        },
        "trusted": true,
        "id": "1A8jp6W0Jyuo"
      },
      "execution_count": null,
      "outputs": []
    },
    {
      "cell_type": "code",
      "source": [
        "\n",
        "storeResults('Random Forest',acc_test_forest,f1_score_test_forest,\n",
        "             recall_score_train_forest,precision_score_train_forest)\n"
      ],
      "metadata": {
        "execution": {
          "iopub.status.busy": "2023-03-16T17:21:54.200911Z",
          "iopub.execute_input": "2023-03-16T17:21:54.201747Z",
          "iopub.status.idle": "2023-03-16T17:21:54.208067Z",
          "shell.execute_reply.started": "2023-03-16T17:21:54.201695Z",
          "shell.execute_reply": "2023-03-16T17:21:54.206677Z"
        },
        "trusted": true,
        "id": "21JFKjv8Jyuo"
      },
      "execution_count": null,
      "outputs": []
    },
    {
      "cell_type": "markdown",
      "source": [
        "# Gradient Boost"
      ],
      "metadata": {
        "id": "KMPVpynfJyuo"
      }
    },
    {
      "cell_type": "code",
      "source": [
        "#  Gradient Boost Classifier Model\n",
        "from sklearn.ensemble import GradientBoostingClassifier\n",
        "\n",
        "# instantiate the model\n",
        "gbc = GradientBoostingClassifier(max_depth=4,learning_rate=0.7)\n",
        "\n",
        "# fit the model\n",
        "gbc.fit(X_train,y_train)\n"
      ],
      "metadata": {
        "execution": {
          "iopub.status.busy": "2023-03-16T17:21:54.210026Z",
          "iopub.execute_input": "2023-03-16T17:21:54.210931Z",
          "iopub.status.idle": "2023-03-16T17:21:55.392582Z",
          "shell.execute_reply.started": "2023-03-16T17:21:54.210878Z",
          "shell.execute_reply": "2023-03-16T17:21:55.391225Z"
        },
        "trusted": true,
        "id": "fr_owCVlJyuo"
      },
      "execution_count": null,
      "outputs": []
    },
    {
      "cell_type": "code",
      "source": [
        "y_train_gbc = gbc.predict(X_train)\n",
        "y_test_gbc = gbc.predict(X_test)\n"
      ],
      "metadata": {
        "execution": {
          "iopub.status.busy": "2023-03-16T17:21:55.394321Z",
          "iopub.execute_input": "2023-03-16T17:21:55.395647Z",
          "iopub.status.idle": "2023-03-16T17:21:55.443796Z",
          "shell.execute_reply.started": "2023-03-16T17:21:55.395589Z",
          "shell.execute_reply": "2023-03-16T17:21:55.442458Z"
        },
        "trusted": true,
        "id": "ach0Jcm0Jyuo"
      },
      "execution_count": null,
      "outputs": []
    },
    {
      "cell_type": "code",
      "source": [
        "\n",
        "acc_train_gbc = metrics.accuracy_score(y_train,y_train_gbc)\n",
        "acc_test_gbc = metrics.accuracy_score(y_test,y_test_gbc)\n",
        "print(\"Gradient Boost: Accuracy on training Data: {:.3f}\".format(acc_train_gbc))\n",
        "print(\"Gradient Boost: Accuracy on test Data: {:.3f}\".format(acc_test_gbc))\n",
        "print()\n",
        "\n",
        "f1_score_train_gbc = metrics.f1_score(y_train,y_train_gbc)\n",
        "f1_score_test_gbc = metrics.f1_score(y_test,y_test_gbc)\n",
        "print(\"Gradient Boost : f1_score on training Data: {:.3f}\".format(f1_score_train_gbc))\n",
        "print(\"Gradient Boost : f1_score on test Data: {:.3f}\".format(f1_score_test_gbc))\n",
        "print()\n",
        "\n",
        "recall_score_train_gbc = metrics.recall_score(y_train,y_train_gbc)\n",
        "recall_score_test_gbc = metrics.recall_score(y_test,y_test_gbc)\n",
        "print(\"Gradient Boost : Recall on training Data: {:.3f}\".format(recall_score_train_gbc))\n",
        "print(\"Gradient Boost : Recall on test Data: {:.3f}\".format(recall_score_train_gbc))\n",
        "print()\n",
        "\n",
        "precision_score_train_gbc = metrics.precision_score(y_train,y_train_gbc)\n",
        "precision_score_test_gbc = metrics.precision_score(y_test,y_test_gbc)\n",
        "print(\"Gradient Boost : precision on training Data: {:.3f}\".format(precision_score_train_gbc))\n",
        "print(\"Gradient Boost : precision on test Data: {:.3f}\".format(precision_score_train_gbc))\n"
      ],
      "metadata": {
        "execution": {
          "iopub.status.busy": "2023-03-16T17:21:55.446883Z",
          "iopub.execute_input": "2023-03-16T17:21:55.447509Z",
          "iopub.status.idle": "2023-03-16T17:21:55.484801Z",
          "shell.execute_reply.started": "2023-03-16T17:21:55.447451Z",
          "shell.execute_reply": "2023-03-16T17:21:55.483453Z"
        },
        "trusted": true,
        "id": "IGY-efT6Jyup"
      },
      "execution_count": null,
      "outputs": []
    },
    {
      "cell_type": "code",
      "source": [
        "storeResults('Gradient Boost ',acc_test_gbc,f1_score_test_gbc,\n",
        "             recall_score_train_gbc,precision_score_train_gbc)"
      ],
      "metadata": {
        "execution": {
          "iopub.status.busy": "2023-03-16T17:21:55.487101Z",
          "iopub.execute_input": "2023-03-16T17:21:55.487731Z",
          "iopub.status.idle": "2023-03-16T17:21:55.495624Z",
          "shell.execute_reply.started": "2023-03-16T17:21:55.487680Z",
          "shell.execute_reply": "2023-03-16T17:21:55.493864Z"
        },
        "trusted": true,
        "id": "pFIvpx-iJyup"
      },
      "execution_count": null,
      "outputs": []
    },
    {
      "cell_type": "code",
      "source": [
        "#creating dataframe\n",
        "result = pd.DataFrame({ 'ML Model' : ml_model,\n",
        "                        'Accuracy' : accuracy,\n",
        "                        'f1_score' : f1_score,\n",
        "                        'Recall'   : recall,\n",
        "                        'Precision': precision,\n",
        "                      })"
      ],
      "metadata": {
        "execution": {
          "iopub.status.busy": "2023-03-16T17:21:55.497717Z",
          "iopub.execute_input": "2023-03-16T17:21:55.498146Z",
          "iopub.status.idle": "2023-03-16T17:21:55.511812Z",
          "shell.execute_reply.started": "2023-03-16T17:21:55.498075Z",
          "shell.execute_reply": "2023-03-16T17:21:55.510415Z"
        },
        "trusted": true,
        "id": "g5lF-uWEJyup"
      },
      "execution_count": null,
      "outputs": []
    },
    {
      "cell_type": "code",
      "source": [
        "result"
      ],
      "metadata": {
        "scrolled": true,
        "execution": {
          "iopub.status.busy": "2023-03-16T17:21:55.513653Z",
          "iopub.execute_input": "2023-03-16T17:21:55.514206Z",
          "iopub.status.idle": "2023-03-16T17:21:55.533340Z",
          "shell.execute_reply.started": "2023-03-16T17:21:55.514154Z",
          "shell.execute_reply": "2023-03-16T17:21:55.532194Z"
        },
        "trusted": true,
        "id": "wxPKLJRyJyup"
      },
      "execution_count": null,
      "outputs": []
    },
    {
      "cell_type": "code",
      "source": [
        "\n",
        "#Sorting the datafram on accuracy\n",
        "sorted_result=result.sort_values(by=['Accuracy', 'f1_score'],ascending=False).reset_index(drop=True)\n",
        "\n"
      ],
      "metadata": {
        "execution": {
          "iopub.status.busy": "2023-03-16T17:21:55.534773Z",
          "iopub.execute_input": "2023-03-16T17:21:55.535241Z",
          "iopub.status.idle": "2023-03-16T17:21:55.552053Z",
          "shell.execute_reply.started": "2023-03-16T17:21:55.535190Z",
          "shell.execute_reply": "2023-03-16T17:21:55.550735Z"
        },
        "trusted": true,
        "id": "0K5uO-d0Jyup"
      },
      "execution_count": null,
      "outputs": []
    },
    {
      "cell_type": "code",
      "source": [
        "sorted_result"
      ],
      "metadata": {
        "execution": {
          "iopub.status.busy": "2023-03-16T17:21:55.553203Z",
          "iopub.execute_input": "2023-03-16T17:21:55.553694Z",
          "iopub.status.idle": "2023-03-16T17:21:55.581916Z",
          "shell.execute_reply.started": "2023-03-16T17:21:55.553535Z",
          "shell.execute_reply": "2023-03-16T17:21:55.580868Z"
        },
        "trusted": true,
        "id": "BFuTO0b6Jyup"
      },
      "execution_count": null,
      "outputs": []
    },
    {
      "cell_type": "code",
      "source": [
        "#make prediction using gbc classifier because it has good accuracy\n",
        "\n",
        "gbc = GradientBoostingClassifier(max_depth=4,learning_rate=0.7)\n"
      ],
      "metadata": {
        "execution": {
          "iopub.status.busy": "2023-03-16T17:21:55.583195Z",
          "iopub.execute_input": "2023-03-16T17:21:55.583689Z",
          "iopub.status.idle": "2023-03-16T17:21:55.591932Z",
          "shell.execute_reply.started": "2023-03-16T17:21:55.583641Z",
          "shell.execute_reply": "2023-03-16T17:21:55.590256Z"
        },
        "trusted": true,
        "id": "5FeqBnRHJyup"
      },
      "execution_count": null,
      "outputs": []
    },
    {
      "cell_type": "code",
      "source": [
        "# fit the model\n",
        "gbc.fit(X_train,y_train)"
      ],
      "metadata": {
        "execution": {
          "iopub.status.busy": "2023-03-16T17:21:55.593316Z",
          "iopub.execute_input": "2023-03-16T17:21:55.593688Z",
          "iopub.status.idle": "2023-03-16T17:21:56.783307Z",
          "shell.execute_reply.started": "2023-03-16T17:21:55.593656Z",
          "shell.execute_reply": "2023-03-16T17:21:56.781734Z"
        },
        "trusted": true,
        "id": "DDoN32iWJyup"
      },
      "execution_count": null,
      "outputs": []
    },
    {
      "cell_type": "code",
      "source": [
        "y_train_gbc = gbc.predict(X_train)"
      ],
      "metadata": {
        "execution": {
          "iopub.status.busy": "2023-03-16T17:21:56.784687Z",
          "iopub.execute_input": "2023-03-16T17:21:56.786226Z",
          "iopub.status.idle": "2023-03-16T17:21:56.825089Z",
          "shell.execute_reply.started": "2023-03-16T17:21:56.786165Z",
          "shell.execute_reply": "2023-03-16T17:21:56.822838Z"
        },
        "trusted": true,
        "id": "1gXE7kw7Jyuq"
      },
      "execution_count": null,
      "outputs": []
    },
    {
      "cell_type": "code",
      "source": [
        "y_test_gbc = gbc.predict(X_test)"
      ],
      "metadata": {
        "execution": {
          "iopub.status.busy": "2023-03-16T17:21:56.834849Z",
          "iopub.execute_input": "2023-03-16T17:21:56.835316Z",
          "iopub.status.idle": "2023-03-16T17:21:56.852362Z",
          "shell.execute_reply.started": "2023-03-16T17:21:56.835279Z",
          "shell.execute_reply": "2023-03-16T17:21:56.850568Z"
        },
        "trusted": true,
        "id": "4oIllLc8Jyuq"
      },
      "execution_count": null,
      "outputs": []
    },
    {
      "cell_type": "code",
      "source": [
        "print(y_test_gbc)"
      ],
      "metadata": {
        "execution": {
          "iopub.status.busy": "2023-03-16T17:21:56.855529Z",
          "iopub.execute_input": "2023-03-16T17:21:56.856204Z",
          "iopub.status.idle": "2023-03-16T17:21:56.864794Z",
          "shell.execute_reply.started": "2023-03-16T17:21:56.856148Z",
          "shell.execute_reply": "2023-03-16T17:21:56.863006Z"
        },
        "trusted": true,
        "id": "BGK6bpU_Jyuq"
      },
      "execution_count": null,
      "outputs": []
    },
    {
      "cell_type": "code",
      "source": [
        "print(y_train_gbc)"
      ],
      "metadata": {
        "execution": {
          "iopub.status.busy": "2023-03-16T17:21:56.866665Z",
          "iopub.execute_input": "2023-03-16T17:21:56.867231Z",
          "iopub.status.idle": "2023-03-16T17:21:56.880044Z",
          "shell.execute_reply.started": "2023-03-16T17:21:56.867181Z",
          "shell.execute_reply": "2023-03-16T17:21:56.878274Z"
        },
        "trusted": true,
        "id": "ZlAmslEnJyuq"
      },
      "execution_count": null,
      "outputs": []
    },
    {
      "cell_type": "code",
      "source": [
        "gbc.score(X_test,y_test)"
      ],
      "metadata": {
        "execution": {
          "iopub.status.busy": "2023-03-16T17:21:56.882535Z",
          "iopub.execute_input": "2023-03-16T17:21:56.882985Z",
          "iopub.status.idle": "2023-03-16T17:21:56.907099Z",
          "shell.execute_reply.started": "2023-03-16T17:21:56.882947Z",
          "shell.execute_reply": "2023-03-16T17:21:56.905444Z"
        },
        "trusted": true,
        "id": "hU3MivnwJyuq"
      },
      "execution_count": null,
      "outputs": []
    },
    {
      "cell_type": "code",
      "source": [
        "confusion_matrix = metrics.confusion_matrix(y_test,y_test_gbc)\n",
        "confusion_matrix\n",
        "\n",
        "class_names = [0,1]\n",
        "\n",
        "fig, ax = plt.subplots()\n",
        "tick_marks = np.arange(len(class_names))\n",
        "plt.xticks(tick_marks, class_names)\n",
        "plt.yticks(tick_marks, class_names)\n",
        "sns.heatmap(pd.DataFrame(confusion_matrix), annot=True, cmap=\"YlGnBu\" ,fmt='g')\n",
        "ax.xaxis.set_label_position(\"top\")\n",
        "plt.tight_layout()\n",
        "plt.title('Confusion matrix', y = 1.1)\n",
        "plt.ylabel('Actuals')\n",
        "plt.xlabel('Predicted')"
      ],
      "metadata": {
        "execution": {
          "iopub.status.busy": "2023-03-16T17:21:56.908988Z",
          "iopub.execute_input": "2023-03-16T17:21:56.909439Z",
          "iopub.status.idle": "2023-03-16T17:21:57.266310Z",
          "shell.execute_reply.started": "2023-03-16T17:21:56.909387Z",
          "shell.execute_reply": "2023-03-16T17:21:57.264521Z"
        },
        "trusted": true,
        "id": "qvDcAitqJyuq"
      },
      "execution_count": null,
      "outputs": []
    },
    {
      "cell_type": "code",
      "source": [
        "acc_train_gbc = metrics.accuracy_score(y_train,y_train_gbc)\n",
        "acc_test_gbc = metrics.accuracy_score(y_test,y_test_gbc)\n",
        "print(\"Gradient Boost: Accuracy on training Data: {:.3f}\".format(acc_train_gbc))\n",
        "print(\"Gradient Boost: Accuracy on test Data: {:.3f}\".format(acc_test_gbc))\n",
        "print()\n",
        "\n",
        "f1_score_train_gbc = metrics.f1_score(y_train,y_train_gbc)\n",
        "f1_score_test_gbc = metrics.f1_score(y_test,y_test_gbc)\n",
        "print(\"Gradient Boost : f1_score on training Data: {:.3f}\".format(f1_score_train_gbc))\n",
        "print(\"Gradient Boost : f1_score on test Data: {:.3f}\".format(f1_score_test_gbc))\n",
        "print()\n",
        "\n",
        "recall_score_train_gbc = metrics.recall_score(y_train,y_train_gbc)\n",
        "recall_score_test_gbc = metrics.recall_score(y_test,y_test_gbc)\n",
        "print(\"Gradient Boost : Recall on training Data: {:.3f}\".format(recall_score_train_gbc))\n",
        "print(\"Gradient Boost : Recall on test Data: {:.3f}\".format(recall_score_train_gbc))\n",
        "print()\n",
        "\n",
        "precision_score_train_gbc = metrics.precision_score(y_train,y_train_gbc)\n",
        "precision_score_test_gbc = metrics.precision_score(y_test,y_test_gbc)\n",
        "print(\"Gradient Boost : precision on training Data: {:.3f}\".format(precision_score_train_gbc))\n",
        "print(\"Gradient Boost : precision on test Data: {:.3f}\".format(precision_score_train_gbc))\n"
      ],
      "metadata": {
        "execution": {
          "iopub.status.busy": "2023-03-16T17:21:57.268915Z",
          "iopub.execute_input": "2023-03-16T17:21:57.269718Z",
          "iopub.status.idle": "2023-03-16T17:21:57.307611Z",
          "shell.execute_reply.started": "2023-03-16T17:21:57.269671Z",
          "shell.execute_reply": "2023-03-16T17:21:57.305493Z"
        },
        "trusted": true,
        "id": "Jy_HL2KDJyuq"
      },
      "execution_count": null,
      "outputs": []
    }
  ]
}